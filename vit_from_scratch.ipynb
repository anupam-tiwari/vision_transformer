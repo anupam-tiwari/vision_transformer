{
 "cells": [
  {
   "cell_type": "code",
   "execution_count": 5,
   "metadata": {},
   "outputs": [
    {
     "data": {
      "text/plain": [
       "<torch._C.Generator at 0x105e9ca30>"
      ]
     },
     "execution_count": 5,
     "metadata": {},
     "output_type": "execute_result"
    }
   ],
   "source": [
    "import torch \n",
    "import numpy as np \n",
    "import matplotlib.pyplot as plt\n",
    "from PIL import Image\n",
    "from tqdm import tqdm, trange\n",
    "import torch.nn as nn \n",
    "from torch.optim import Adam \n",
    "from torch.nn import CrossEntropyLoss\n",
    "from torch.utils.data import DataLoader\n",
    "\n",
    "from torchvision.transforms import ToTensor\n",
    "from torchvision.datasets.mnist import MNIST\n",
    "\n",
    "np.random.seed(0)\n",
    "torch.manual_seed(0)"
   ]
  },
  {
   "attachments": {},
   "cell_type": "markdown",
   "metadata": {},
   "source": [
    "# architecture"
   ]
  },
  {
   "attachments": {},
   "cell_type": "markdown",
   "metadata": {},
   "source": [
    "![Alt text](https://viso.ai/wp-content/uploads/2021/09/vision-transformer-vit.png)"
   ]
  },
  {
   "attachments": {},
   "cell_type": "markdown",
   "metadata": {},
   "source": [
    "# Code"
   ]
  },
  {
   "cell_type": "code",
   "execution_count": 8,
   "metadata": {},
   "outputs": [],
   "source": [
    "# image\n",
    "IMAGE_LOC = '/Users/anupam/Documents/code/ai/sam-2/vision_transformer/data/dataset-card.jpg'\n",
    "raw_image = Image.open(IMAGE_LOC)\n",
    "raw_image = raw_image.resize((48,48))\n",
    "arr_image = np.array(raw_image)"
   ]
  },
  {
   "cell_type": "code",
   "execution_count": null,
   "metadata": {},
   "outputs": [],
   "source": [
    "# dataset\n",
    "train_set = MNIST(root='/Users/anupam/Documents/code/ai/sam-2/vision_transformer/data', train=True, download=True, transform=ToTensor())\n",
    "test_set = MNIST(root='/Users/anupam/Documents/code/ai/sam-2/vision_transformer/data', train=False, download=True, transform=ToTensor())\n",
    "\n",
    "train_loader = DataLoader(train_set, shuffle=True, batch_size=128)\n",
    "test_loader = DataLoader(train_set, shuffle=True, batch_size=128)"
   ]
  },
  {
   "cell_type": "code",
   "execution_count": 79,
   "metadata": {},
   "outputs": [
    {
     "name": "stdout",
     "output_type": "stream",
     "text": [
      "tensor(1)\n"
     ]
    }
   ],
   "source": [
    "data_iter = iter(train_loader) \n",
    "images, label = next(data_iter)\n",
    "image = images[4]\n",
    "lab = label[4]\n",
    "print(lab)"
   ]
  },
  {
   "cell_type": "code",
   "execution_count": 78,
   "metadata": {},
   "outputs": [
    {
     "data": {
      "text/plain": [
       "<matplotlib.image.AxesImage at 0x15c81cb50>"
      ]
     },
     "execution_count": 78,
     "metadata": {},
     "output_type": "execute_result"
    },
    {
     "data": {
      "image/png": "[encoded data removed]",
      "text/plain": [
       "<Figure size 640x480 with 1 Axes>"
      ]
     },
     "metadata": {},
     "output_type": "display_data"
    }
   ],
   "source": [
    "plt.imshow(image.numpy().transpose((1, 2, 0)),)"
   ]
  },
  {
   "cell_type": "code",
   "execution_count": 89,
   "metadata": {},
   "outputs": [],
   "source": [
    "# patch image \n",
    "def patchify(images, n_patches):\n",
    "    n, c, h, w = images.shape\n",
    "    \n",
    "    patches = torch.zeros(n, n_patches ** 2, h*w*c // n_patches ** 2)\n",
    "    patch_size = h // n_patches\n",
    "    \n",
    "    for idx, image in enumerate(images):\n",
    "        for i in range(n_patches):\n",
    "            for j in range(n_patches):\n",
    "                patch = image[:, i * patch_size: (i+1)*patch_size, j * patch_size: (j + 1) * patch_size]\n",
    "                patches[idx, i*n_patches + j] = patch.flatten()\n",
    "    \n",
    "    return patches\n",
    "    "
   ]
  },
  {
   "cell_type": "code",
   "execution_count": 98,
   "metadata": {},
   "outputs": [],
   "source": [
    "# model \n",
    "class VIT(nn.Module):\n",
    "    def __init__(self, chw =(1, 28, 28), n_patches=7) -> None:\n",
    "        super(VIT,self).__init__()\n",
    "        \n",
    "        self.chw = chw \n",
    "        self.n_patches = n_patches\n",
    "        self.hidden_d = 8\n",
    "        \n",
    "        # linear layer \n",
    "        self.input_d  = 16 # 1 x 4 x 4\n",
    "        self.linear_mapper = nn.Linear(self.input_d, self.hidden_d)\n",
    "        \n",
    "        # learnable classification token\n",
    "        self.class_token = nn.Parameter(torch(1,self.hidden_d))\n",
    "    \n",
    "    def forward(self, images):\n",
    "        patches = patchify(images, self.n_patches)\n",
    "        tokens = self.linear_mapper(patches)\n",
    "        \n",
    "        # adding classification token\n",
    "        tokens = torch.stack([torch.vstack((self.class_token, tokens[i])) for i in range(len(tokens))])\n",
    "        return tokens"
   ]
  },
  {
   "cell_type": "code",
   "execution_count": 96,
   "metadata": {},
   "outputs": [],
   "source": [
    "model = VIT()"
   ]
  },
  {
   "cell_type": "code",
   "execution_count": null,
   "metadata": {},
   "outputs": [],
   "source": []
  }
 ],
 "metadata": {
  "kernelspec": {
   "display_name": "sam-2",
   "language": "python",
   "name": "python3"
  },
  "language_info": {
   "codemirror_mode": {
    "name": "ipython",
    "version": 3
   },
   "file_extension": ".py",
   "mimetype": "text/x-python",
   "name": "python",
   "nbconvert_exporter": "python",
   "pygments_lexer": "ipython3",
   "version": "3.10.10"
  },
  "orig_nbformat": 4,
  "vscode": {
   "interpreter": {
    "hash": "a0518f282fd16ad9d67f6ca5ed598315e584f03faa336c8b22fdd05c0ff380aa"
   }
  }
 },
 "nbformat": 4,
 "nbformat_minor": 2
}
